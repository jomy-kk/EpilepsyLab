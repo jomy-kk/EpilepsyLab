{
  "nbformat": 4,
  "nbformat_minor": 0,
  "metadata": {
    "colab": {
      "name": "cuomo2015.ipynb",
      "provenance": [],
      "authorship_tag": "ABX9TyOSK5SM7qSXEMauEtN2S+ee",
      "include_colab_link": true
    },
    "kernelspec": {
      "name": "python3",
      "display_name": "Python 3"
    },
    "language_info": {
      "name": "python"
    }
  },
  "cells": [
    {
      "cell_type": "markdown",
      "metadata": {
        "id": "view-in-github",
        "colab_type": "text"
      },
      "source": [
        "<a href=\"https://colab.research.google.com/github/jomy-kk/EpilepsyLab/blob/main/denoisingExperiments/ecg/cuomo2015.ipynb\" target=\"_parent\"><img src=\"https://colab.research.google.com/assets/colab-badge.svg\" alt=\"Open In Colab\"/></a>"
      ]
    },
    {
      "cell_type": "markdown",
      "metadata": {
        "id": "G2l1-pz6bqCG"
      },
      "source": [
        "# Cuomo et al. (2015) O(n) Numerical Scheme\n",
        "https://www.sciencedirect.com/science/article/pii/S1877050915010066\n",
        "https://www.sciencedirect.com/science/article/pii/S1746809416300192?via%3Dihub\n",
        "\n",
        "---\n",
        "\n",
        "**Pros**\n",
        "- Removes baseline wander from  signals\n",
        "- Does not need to perform the Fourier Transform\n",
        "- Runs in time O(n)"
      ]
    },
    {
      "cell_type": "code",
      "metadata": {
        "id": "anj1G_ajc57m"
      },
      "source": [
        "import math"
      ],
      "execution_count": null,
      "outputs": []
    },
    {
      "cell_type": "code",
      "metadata": {
        "id": "ak2BkCl-cTRk"
      },
      "source": [
        "def recursive_filter(s0, mu, sigma):\n",
        "  tau = sf  # discretization stepsize can be equal to sampling frequency\n",
        "\n",
        "  # Line 1\n",
        "  b0 = 1\n",
        "  b1 = -2 * math.cos(mu*tau)\n",
        "  b2 = 1\n",
        "  a1 = 2 * math.exp(-math.sqrt(2) * sigma * tau) * math.cos(mu * tau)\n",
        "  a2 = -math.exp(-2 * math.sqrt(2) * sigma * tau)\n",
        "\n",
        "  # Line 2\n",
        "  ph[-1] = ((b0 + b1 + b2) / (1- a1 - a2)) * s0[1]\n",
        "  ph[0] = ph[-1]\n",
        "\n",
        "  # Lines 3-4-5\n",
        "  for j in range (0, n, 1):\n",
        "    ph[j] = b0 * s0[j] + b1 * s0[j-1] + b2 * s0[j-2] + a1 * ph[j-1] + a2 * ph[j-2]\n",
        "  \n",
        "  # Line 6\n",
        "  sh[n+2] = ((b0 + b1 + b2) / (1- a1 - a2)) * ph[n]\n",
        "\n",
        "  # Lines 7-8-9\n",
        "  for j in range (n, 0, -1):\n",
        "    sh[j] = b0 * ph[j] + b1 * ph[j+1] + b2 * ph[j+2] + a1 * sh[j+1] + a2 * sh[j+2]\n",
        "\n",
        "  # Line 10\n",
        "  return sh"
      ],
      "execution_count": null,
      "outputs": []
    }
  ]
}